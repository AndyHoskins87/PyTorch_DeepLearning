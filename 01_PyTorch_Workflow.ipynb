{
  "nbformat": 4,
  "nbformat_minor": 0,
  "metadata": {
    "colab": {
      "provenance": [],
      "gpuType": "T4",
      "authorship_tag": "ABX9TyN84Dotex5KfjTtgqdUXLb3",
      "include_colab_link": true
    },
    "kernelspec": {
      "name": "python3",
      "display_name": "Python 3"
    },
    "language_info": {
      "name": "python"
    },
    "accelerator": "GPU"
  },
  "cells": [
    {
      "cell_type": "markdown",
      "metadata": {
        "id": "view-in-github",
        "colab_type": "text"
      },
      "source": [
        "<a href=\"https://colab.research.google.com/github/AndyHoskins87/PyTorch_DeepLearning/blob/main/01_PyTorch_Workflow.ipynb\" target=\"_parent\"><img src=\"https://colab.research.google.com/assets/colab-badge.svg\" alt=\"Open In Colab\"/></a>"
      ]
    },
    {
      "cell_type": "markdown",
      "source": [
        "## PyTorch Workflow"
      ],
      "metadata": {
        "id": "4iml-jJPIme1"
      }
    },
    {
      "cell_type": "markdown",
      "source": [
        "Resource Notebook: https://www.learnpytorch.io/01_pytorch_workflow/\n",
        "\n",
        "Lets explore an example PyTorch end to end workflow.\n",
        "\n"
      ],
      "metadata": {
        "id": "h6ey6cYfL8CZ"
      }
    },
    {
      "cell_type": "code",
      "source": [
        "what_were_covering = {1: \"Data (prepare and load)\",\n",
        "2: \"Building a model\",\n",
        "3: \"Fittinf the model to the training data\",\n",
        "4: \"Making predictions and evaluating a model (inference)\",\n",
        "5: \"Saving and loading a model\",\n",
        "6: \"Putting it all together\"}\n",
        "\n",
        "what_were_covering"
      ],
      "metadata": {
        "colab": {
          "base_uri": "https://localhost:8080/"
        },
        "id": "t_OrtaAnNIv6",
        "outputId": "e4329ca2-0c52-497d-be7d-8d9bf1d36c57"
      },
      "execution_count": 1,
      "outputs": [
        {
          "output_type": "execute_result",
          "data": {
            "text/plain": [
              "{1: 'Data (prepare and load)',\n",
              " 2: 'Building a model',\n",
              " 3: 'Fittinf the model to the training data',\n",
              " 4: 'Making predictions and evaluating a model (inference)',\n",
              " 5: 'Saving and loading a model',\n",
              " 6: 'Putting it all together'}"
            ]
          },
          "metadata": {},
          "execution_count": 1
        }
      ]
    },
    {
      "cell_type": "code",
      "source": [
        "import torch\n",
        "from torch import nn # nn contains all of pyTorchs building blocks for neural networks\n",
        "import matplotlib.pyplot as plt\n",
        "\n",
        "# check pyToch version\n",
        "torch.__version__"
      ],
      "metadata": {
        "colab": {
          "base_uri": "https://localhost:8080/",
          "height": 35
        },
        "id": "613aqDGlNRWz",
        "outputId": "4d9e56de-05fc-4274-a6c0-1b705aba5bb4"
      },
      "execution_count": 57,
      "outputs": [
        {
          "output_type": "execute_result",
          "data": {
            "text/plain": [
              "'2.2.1+cu121'"
            ],
            "application/vnd.google.colaboratory.intrinsic+json": {
              "type": "string"
            }
          },
          "metadata": {},
          "execution_count": 57
        }
      ]
    },
    {
      "cell_type": "markdown",
      "source": [
        "## Data (Preparing and Loading)"
      ],
      "metadata": {
        "id": "hQtmasRFNyu5"
      }
    },
    {
      "cell_type": "markdown",
      "source": [
        "Data can be almost anything in machine learning\n",
        "* Excel Spreadsheets\n",
        "* Images of any kind\n",
        "* Video's\n",
        "* Audio (Songs and Poadcasts)\n",
        "* text\n",
        "* DNA\n",
        "\n",
        "To showcase this, lets create some known data using the linear regression formula.\n",
        "We'll use a linear regression formula to make a straight line with known parameters."
      ],
      "metadata": {
        "id": "0a4jnjCTN6-F"
      }
    },
    {
      "cell_type": "code",
      "source": [
        "# Create known parameters\n",
        "weight = 0.7\n",
        "bias = 0.3\n",
        "\n",
        "# Create data\n",
        "start = 0\n",
        "end = 1\n",
        "step = 0.02\n",
        "X = torch.arange(start, end, step).unsqueeze(dim=1)\n",
        "y = weight * X + bias\n",
        "\n",
        "X[:5], y[:5]"
      ],
      "metadata": {
        "colab": {
          "base_uri": "https://localhost:8080/"
        },
        "id": "D4DUhS28OWG8",
        "outputId": "485daaa0-0d4d-49d4-acff-50656c1d12ed"
      },
      "execution_count": 26,
      "outputs": [
        {
          "output_type": "execute_result",
          "data": {
            "text/plain": [
              "(tensor([[0.0000],\n",
              "         [0.0200],\n",
              "         [0.0400],\n",
              "         [0.0600],\n",
              "         [0.0800]]),\n",
              " tensor([[0.3000],\n",
              "         [0.3140],\n",
              "         [0.3280],\n",
              "         [0.3420],\n",
              "         [0.3560]]))"
            ]
          },
          "metadata": {},
          "execution_count": 26
        }
      ]
    },
    {
      "cell_type": "code",
      "source": [
        "len(X), len(y)"
      ],
      "metadata": {
        "colab": {
          "base_uri": "https://localhost:8080/"
        },
        "id": "cdF1gHRQQhia",
        "outputId": "9612aa90-c85a-4fe7-b4dd-347a593b4a7f"
      },
      "execution_count": 27,
      "outputs": [
        {
          "output_type": "execute_result",
          "data": {
            "text/plain": [
              "(50, 50)"
            ]
          },
          "metadata": {},
          "execution_count": 27
        }
      ]
    },
    {
      "cell_type": "markdown",
      "source": [
        "## Spliting data into training and tests sets"
      ],
      "metadata": {
        "id": "37h0H7nIQoip"
      }
    },
    {
      "cell_type": "markdown",
      "source": [
        "* Training Set - The model learns from this data - ~60-80% of the data.\n",
        "* Validation Set - Model get tuned on this data - ~10-20% of the data.\n",
        "* Testing Set - The model get evealuated on this data - ~10-20% of the data."
      ],
      "metadata": {
        "id": "6PIT772klInc"
      }
    },
    {
      "cell_type": "code",
      "source": [
        "# Create a train/test split\n",
        "train_split = int(0.8 * len(X)) # 80% of data for training, 20% for testing.\n",
        "\n",
        "X_train, y_train = X[:train_split], y[:train_split]\n",
        "X_test, y_test = X[train_split:], y[train_split:]\n",
        "\n",
        "len(X_train), len(y_train), len(X_test), len(y_test)"
      ],
      "metadata": {
        "colab": {
          "base_uri": "https://localhost:8080/"
        },
        "id": "OiDS05kgl99P",
        "outputId": "12217a85-23d5-4ff2-d95c-efb899f77d6e"
      },
      "execution_count": 5,
      "outputs": [
        {
          "output_type": "execute_result",
          "data": {
            "text/plain": [
              "(40, 40, 10, 10)"
            ]
          },
          "metadata": {},
          "execution_count": 5
        }
      ]
    },
    {
      "cell_type": "code",
      "source": [
        "def plot_predictions(train_data=X_train,\n",
        "                     train_labels=y_train,\n",
        "                     test_data=X_test,\n",
        "                     test_labels=y_test,\n",
        "                     predictions=None):\n",
        "    '''\n",
        "    Plots training data, test data and compares predictions.\n",
        "    '''\n",
        "    plt.figure(figsize=(10, 7))\n",
        "\n",
        "    # Plot the training data in blue\n",
        "    plt.scatter(train_data, train_labels, c=\"b\", s=4, label=\"Training data\")\n",
        "\n",
        "    # Plot the test data in red\n",
        "    plt.scatter(test_data, test_labels, c=\"g\", s=4, label=\"Testing data\")\n",
        "\n",
        "    # Are there predictions?\n",
        "    if predictions is not None:\n",
        "        # Plot the predicitions if they exist\n",
        "        plt.scatter(test_data, predictions, c=\"r\", s=4, label=\"predictions\")\n",
        "    # Show the legend\n",
        "    plt.legend(prop={\"size\": 10});"
      ],
      "metadata": {
        "id": "v_dEctiLnGQk"
      },
      "execution_count": 6,
      "outputs": []
    },
    {
      "cell_type": "code",
      "source": [
        "plot_predictions();"
      ],
      "metadata": {
        "colab": {
          "base_uri": "https://localhost:8080/",
          "height": 599
        },
        "id": "BK3mb_3fprU-",
        "outputId": "dcacb0a5-812d-4b05-fb4c-bc7555609094"
      },
      "execution_count": 7,
      "outputs": [
        {
          "output_type": "display_data",
          "data": {
            "text/plain": [
              "<Figure size 1000x700 with 1 Axes>"
            ],
            "image/png": "[encoded data removed]"
          },
          "metadata": {}
        }
      ]
    },
    {
      "cell_type": "markdown",
      "source": [
        "## Build a Model"
      ],
      "metadata": {
        "id": "ZveeF4V-pu9j"
      }
    },
    {
      "cell_type": "markdown",
      "source": [
        "My first PyTorch model!\n",
        "\n",
        "Because we're are going to be building using python classes, recommend using this resource for OOP: https://realpython.com/python3-object-oriented-programming/\n",
        "\n",
        "What our model does:\n",
        "* Starts with random valuse for (weights & bias)\n",
        "* Looks at the training data and adjusts the random (weights & bias), values to get closer to the ideal values.\n",
        "\n",
        "How does it do so?\n",
        "Through two main algorithms:\n",
        "* Graident Descent - https://youtu.be/IHZwWFHWa-w?si=R7dLnRhJAyqikGRK\n",
        "* Backpropagation - https://youtu.be/Ilg3gGewQ5U?si=BkRPI8JLAQ-xHXWd"
      ],
      "metadata": {
        "id": "vGBAkyO0qfLF"
      }
    },
    {
      "cell_type": "code",
      "source": [
        "# Create a Linear Regression model class\n",
        "class LinearRegressionModel(nn.Module): # Almost everything in PyTorch is a nn.Module (think of this as neural network lego blocks)\n",
        "    def __init__(self):\n",
        "        super().__init__()\n",
        "        self.weights = nn.Parameter(torch.randn(1, # start with random weights & bias's (this will get adjusted as the model learns)\n",
        "                                                dtype=torch.float,\n",
        "                                                requires_grad=True))\n",
        "\n",
        "        self.bias = nn.Parameter(torch.randn(1,\n",
        "                                            dtype=torch.float,\n",
        "                                            requires_grad=True)) # we update this value with gradient descent\n",
        "\n",
        "    # Forward defines the computation in the model\n",
        "    def forward(self, x: torch.Tensor) -> torch.Tensor: # x is the input data (e.g. training/testing features)\n",
        "        return self.weights * x + self.bias # This is the linear regression formula (y = m*x + b)"
      ],
      "metadata": {
        "id": "KGDtsVU-rnQG"
      },
      "execution_count": 30,
      "outputs": []
    },
    {
      "cell_type": "markdown",
      "source": [
        "PyTorch model building essentials\n",
        "\n",
        "* `torch.nn` - contains all of the building blocks for computational graphs.\n",
        "* `torch.nn.parameter` - Stores tensors that can be used with nn.Module (used for updating model parameters via graident descent), are calculated automatically and often referred to as autograd.\n",
        "* `torch.nn.Module` - The base class for all neural network modules, all the building blocks for neural networks are subclasses.\n",
        "* `torch.optim` - Contains various different optimization algorithms. (these tell the model parameters stored in nn.Parameter how to best change to improve gradient descent and in turn reduce the loss).\n",
        "* `def forward()` - All nn.Module subclasses require a foward() method, this defines the computation that will take place on the data passed to the particular nn.Module. (Linear regression used above)\n",
        "\n",
        "Resource: PyTorch cheat sheet: https://pytorch.org/tutorials/beginner/ptcheat.html"
      ],
      "metadata": {
        "id": "NF_sn9F8uxgu"
      }
    },
    {
      "cell_type": "markdown",
      "source": [
        "## Checking the contents of a PyTorch Model"
      ],
      "metadata": {
        "id": "o7mXzqTjz4OY"
      }
    },
    {
      "cell_type": "code",
      "source": [
        "# Set manual seed since nn.Parameters are randomly initialized.\n",
        "torch.manual_seed(42)\n",
        "\n",
        "# Create an instance of the model (This is a subclass of nn.Module that contains nn.Parameters)\n",
        "model_0 = LinearRegressionModel()\n",
        "\n",
        "# Check the nn.Parameter(s) within the nn.Module subclass we created\n",
        "list(model_0.parameters())"
      ],
      "metadata": {
        "colab": {
          "base_uri": "https://localhost:8080/"
        },
        "id": "hmir0WRHlwSJ",
        "outputId": "e1cc0c99-24e0-47d0-f6c5-8682ee6b3a36"
      },
      "execution_count": 31,
      "outputs": [
        {
          "output_type": "execute_result",
          "data": {
            "text/plain": [
              "[Parameter containing:\n",
              " tensor([0.3367], requires_grad=True),\n",
              " Parameter containing:\n",
              " tensor([0.1288], requires_grad=True)]"
            ]
          },
          "metadata": {},
          "execution_count": 31
        }
      ]
    },
    {
      "cell_type": "code",
      "source": [
        "# List named parameters\n",
        "model_0.state_dict()\n",
        "# The closer we get the random values to the W&B we set 0.7/0.3 the better."
      ],
      "metadata": {
        "colab": {
          "base_uri": "https://localhost:8080/"
        },
        "id": "OPxGhtWNmXtx",
        "outputId": "dd348381-536e-4b1d-aee6-47583e08cb2d"
      },
      "execution_count": 32,
      "outputs": [
        {
          "output_type": "execute_result",
          "data": {
            "text/plain": [
              "OrderedDict([('weights', tensor([0.3367])), ('bias', tensor([0.1288]))])"
            ]
          },
          "metadata": {},
          "execution_count": 32
        }
      ]
    },
    {
      "cell_type": "markdown",
      "source": [
        "## Making Predictions using `torch.inference_mode()`"
      ],
      "metadata": {
        "id": "UaZ0KEZanKS6"
      }
    },
    {
      "cell_type": "markdown",
      "source": [
        "To check our model's predictive power, lets see how well it predicts `y_test` based on `X_test` data.\n",
        "When we pass data through our model, its going to run through the `forward()` method."
      ],
      "metadata": {
        "id": "0O981QHdnxx-"
      }
    },
    {
      "cell_type": "code",
      "source": [
        "# Make predictions with model\n",
        "with torch.inference_mode():\n",
        "    y_preds = model_0(X_test)\n",
        "\n",
        "y_preds"
      ],
      "metadata": {
        "colab": {
          "base_uri": "https://localhost:8080/"
        },
        "id": "hoNWjeYkolGc",
        "outputId": "872d195a-c428-4bde-fe00-1f331b3dca41"
      },
      "execution_count": 33,
      "outputs": [
        {
          "output_type": "execute_result",
          "data": {
            "text/plain": [
              "tensor([[0.3982],\n",
              "        [0.4049],\n",
              "        [0.4116],\n",
              "        [0.4184],\n",
              "        [0.4251],\n",
              "        [0.4318],\n",
              "        [0.4386],\n",
              "        [0.4453],\n",
              "        [0.4520],\n",
              "        [0.4588]])"
            ]
          },
          "metadata": {},
          "execution_count": 33
        }
      ]
    },
    {
      "cell_type": "markdown",
      "source": [
        "As the name suggests, `torch.inference_mode()` is used when using a model for inference (making predictions).\n",
        "\n",
        "`torch.inference_mode()` turns off a bunch of things (like gradient tracking, which is necessary for training but not for inference) to make forward-passes faster."
      ],
      "metadata": {
        "id": "WUSlBDVZw05_"
      }
    },
    {
      "cell_type": "code",
      "source": [
        "plot_predictions(predictions=y_preds)"
      ],
      "metadata": {
        "colab": {
          "base_uri": "https://localhost:8080/",
          "height": 599
        },
        "id": "-PZad-k6vksn",
        "outputId": "8fa277b6-a8e4-4aac-8008-5a4c7ff9c144"
      },
      "execution_count": 34,
      "outputs": [
        {
          "output_type": "display_data",
          "data": {
            "text/plain": [
              "<Figure size 1000x700 with 1 Axes>"
            ],
            "image/png": "[encoded data removed]"
          },
          "metadata": {}
        }
      ]
    },
    {
      "cell_type": "markdown",
      "source": [
        "## Train Model"
      ],
      "metadata": {
        "id": "i8a1mWRFvvWe"
      }
    },
    {
      "cell_type": "markdown",
      "source": [
        "The whole idea of training is for a model to move from some unkown parameters (these maybe random), to some known parameters.\n",
        "\n",
        "* **Loss Function:** A function to measure how wrong your model's predictions are. (Lower is better).\n",
        "\n",
        "* **Optimizer:** Takes into account the loss of a model and adjusts the model's parameters (e.g weights & bias) to improve the loss function.\n",
        "    * Inside the Optimizer you'll often have to set two parameters:\n",
        "        * `params` - the model parameters you'd like t optimize.\n",
        "        * `lr` - learning rate.\n",
        "\n",
        "* Training Loop.\n",
        "* Testing Loop."
      ],
      "metadata": {
        "id": "0-j1NlZWDCep"
      }
    },
    {
      "cell_type": "code",
      "source": [
        "# Loss function: L1lose = Mean Absolute Error(MAE) differnce between each element in the input x and target y.\n",
        "loss_fn = nn.L1Loss()\n",
        "\n",
        "# Setup an optimizer (SGD) Stochastic Graident Descent\n",
        "optimizer = torch.optim.SGD(params=model_0.parameters(),\n",
        "                            lr=0.01) # Learning Rate hyperparameter\n"
      ],
      "metadata": {
        "id": "0Ep6koRRELYZ"
      },
      "execution_count": 35,
      "outputs": []
    },
    {
      "cell_type": "markdown",
      "source": [
        "## Building a Training & Testing loop in PyTorch"
      ],
      "metadata": {
        "id": "taOSTOBuG8pb"
      }
    },
    {
      "cell_type": "markdown",
      "source": [
        "Training Loop:\n",
        "0. Loop through the data\n",
        "1. Forward pass - This involves data moving through our model's `forward()` functions. Also called forward propagation.\n",
        "2. Calculate the loss (compare forward pass predictions to ground truth labels).\n",
        "3. Optimizer Zero Grad\n",
        "4. Loss backward - move backwards through the newtwork to calculate the gradients of each of the parameters of our model with respect to the loss (**Backpropagation**).\n",
        "5. Optimizer - Use the optimizer to adjust our models parameters to try and improve the loss (**Graident Descent**)"
      ],
      "metadata": {
        "id": "BchpyJt8HzP7"
      }
    },
    {
      "cell_type": "code",
      "source": [
        "torch.manual_seed(42)\n",
        "# An epoch is one loop through the data\n",
        "epochs = 100\n",
        "# Training\n",
        "for epoch in range(epochs):\n",
        "    model_0.train() # Set the model to training mode\n",
        "\n",
        "    # Forward Pass\n",
        "    y_pred = model_0(X_train)\n",
        "\n",
        "    # Calculate the loss\n",
        "    loss = loss_fn(y_pred, y_train)\n",
        "    #print(f\"Loss: {loss}\")\n",
        "\n",
        "    # Optimizer Zero Grad\n",
        "    optimizer.zero_grad()  # by default the optimizer changes will accumulate through the loop so... we have to zero them before the next loop.\n",
        "\n",
        "    # Perform backpropagation\n",
        "    loss.backward()\n",
        "\n",
        "    # Step the optimizer (perform graident descent)\n",
        "    optimizer.step()\n",
        "\n",
        "    #Testing\n",
        "    model_0.eval() # Turns off graident tracking.\n",
        "    #print(model_0.state_dict())"
      ],
      "metadata": {
        "id": "-yV7v-2UJIy7"
      },
      "execution_count": 62,
      "outputs": []
    },
    {
      "cell_type": "code",
      "source": [
        "model_0.state_dict()"
      ],
      "metadata": {
        "colab": {
          "base_uri": "https://localhost:8080/"
        },
        "id": "r2LTZq36MWqj",
        "outputId": "26790282-996c-495d-ce71-51c2a3ec2fc7"
      },
      "execution_count": 36,
      "outputs": [
        {
          "output_type": "execute_result",
          "data": {
            "text/plain": [
              "OrderedDict([('weights', tensor([0.3367])), ('bias', tensor([0.1288]))])"
            ]
          },
          "metadata": {},
          "execution_count": 36
        }
      ]
    },
    {
      "cell_type": "code",
      "source": [
        "model_0.state_dict()"
      ],
      "metadata": {
        "colab": {
          "base_uri": "https://localhost:8080/"
        },
        "id": "FMPvQBqIRiU0",
        "outputId": "fc14d338-4ee4-41c3-cdb3-23b8c5da3a7b"
      },
      "execution_count": 65,
      "outputs": [
        {
          "output_type": "execute_result",
          "data": {
            "text/plain": [
              "OrderedDict([('weights', tensor([0.6074])), ('bias', tensor([0.3388]))])"
            ]
          },
          "metadata": {},
          "execution_count": 65
        }
      ]
    },
    {
      "cell_type": "code",
      "source": [
        "with torch.inference_mode():\n",
        "    y_preds_new = model_0(X_test)"
      ],
      "metadata": {
        "id": "ZzvROlH3QEjg"
      },
      "execution_count": 63,
      "outputs": []
    },
    {
      "cell_type": "code",
      "source": [
        "plot_predictions(predictions=y_preds_new)"
      ],
      "metadata": {
        "colab": {
          "base_uri": "https://localhost:8080/",
          "height": 599
        },
        "id": "autyx7EKQ-vu",
        "outputId": "b94f8418-c78e-4c4b-8033-1026204502f8"
      },
      "execution_count": 64,
      "outputs": [
        {
          "output_type": "display_data",
          "data": {
            "text/plain": [
              "<Figure size 1000x700 with 1 Axes>"
            ],
            "image/png": "[encoded data removed]"
          },
          "metadata": {}
        }
      ]
    },
    {
      "cell_type": "code",
      "source": [],
      "metadata": {
        "id": "h7G6DizsRHfi"
      },
      "execution_count": null,
      "outputs": []
    }
  ]
}