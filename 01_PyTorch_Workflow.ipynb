{
  "nbformat": 4,
  "nbformat_minor": 0,
  "metadata": {
    "colab": {
      "provenance": [],
      "gpuType": "T4",
      "authorship_tag": "ABX9TyPii4dniD1CZm4uGbcbhjmw",
      "include_colab_link": true
    },
    "kernelspec": {
      "name": "python3",
      "display_name": "Python 3"
    },
    "language_info": {
      "name": "python"
    },
    "accelerator": "GPU"
  },
  "cells": [
    {
      "cell_type": "markdown",
      "metadata": {
        "id": "view-in-github",
        "colab_type": "text"
      },
      "source": [
        "<a href=\"https://colab.research.google.com/github/AndyHoskins87/PyTorch_DeepLearning/blob/main/01_PyTorch_Workflow.ipynb\" target=\"_parent\"><img src=\"https://colab.research.google.com/assets/colab-badge.svg\" alt=\"Open In Colab\"/></a>"
      ]
    },
    {
      "cell_type": "markdown",
      "source": [
        "## PyTorch Workflow"
      ],
      "metadata": {
        "id": "4iml-jJPIme1"
      }
    },
    {
      "cell_type": "markdown",
      "source": [
        "Resource Notebook: https://www.learnpytorch.io/01_pytorch_workflow/\n",
        "\n",
        "Lets explore an example PyTorch end to end workflow.\n",
        "\n"
      ],
      "metadata": {
        "id": "h6ey6cYfL8CZ"
      }
    },
    {
      "cell_type": "code",
      "source": [
        "what_were_covering = {1: \"Data (prepare and load)\",\n",
        "2: \"Building a model\",\n",
        "3: \"Fittinf the model to the training data\",\n",
        "4: \"Making predictions and evaluating a model (inference)\",\n",
        "5: \"Saving and loading a model\",\n",
        "6: \"Putting it all together\"}\n",
        "\n",
        "what_were_covering"
      ],
      "metadata": {
        "colab": {
          "base_uri": "https://localhost:8080/"
        },
        "id": "t_OrtaAnNIv6",
        "outputId": "691116a6-5d7a-4356-c59a-8bbfc60c74fe"
      },
      "execution_count": 1,
      "outputs": [
        {
          "output_type": "execute_result",
          "data": {
            "text/plain": [
              "{1: 'Data (prepare and load)',\n",
              " 2: 'Building a model',\n",
              " 3: 'Fittinf the model to the training data',\n",
              " 4: 'Making predictions and evaluating a model (inference)',\n",
              " 5: 'Saving and loading a model',\n",
              " 6: 'Putting it all together'}"
            ]
          },
          "metadata": {},
          "execution_count": 1
        }
      ]
    },
    {
      "cell_type": "code",
      "source": [
        "import torch\n",
        "from torch import nn # nn contains all of pyTorchs building blocks for neural networks\n",
        "import matplotlib.pyplot as plt\n",
        "\n",
        "# check pyToch version\n",
        "torch.__version__"
      ],
      "metadata": {
        "colab": {
          "base_uri": "https://localhost:8080/",
          "height": 35
        },
        "id": "613aqDGlNRWz",
        "outputId": "6fd528ca-de5c-464a-900c-c3699facfec0"
      },
      "execution_count": 2,
      "outputs": [
        {
          "output_type": "execute_result",
          "data": {
            "text/plain": [
              "'2.3.0+cu121'"
            ],
            "application/vnd.google.colaboratory.intrinsic+json": {
              "type": "string"
            }
          },
          "metadata": {},
          "execution_count": 2
        }
      ]
    },
    {
      "cell_type": "markdown",
      "source": [
        "## Data (Preparing and Loading)"
      ],
      "metadata": {
        "id": "hQtmasRFNyu5"
      }
    },
    {
      "cell_type": "markdown",
      "source": [
        "Data can be almost anything in machine learning\n",
        "* Excel Spreadsheets\n",
        "* Images of any kind\n",
        "* Video's\n",
        "* Audio (Songs and Poadcasts)\n",
        "* text\n",
        "* DNA\n",
        "\n",
        "To showcase this, lets create some known data using the linear regression formula.\n",
        "We'll use a linear regression formula to make a straight line with known parameters."
      ],
      "metadata": {
        "id": "0a4jnjCTN6-F"
      }
    },
    {
      "cell_type": "code",
      "source": [
        "# Create known parameters\n",
        "weight = 0.7\n",
        "bias = 0.3\n",
        "\n",
        "# Create data\n",
        "start = 0\n",
        "end = 1\n",
        "step = 0.02\n",
        "X = torch.arange(start, end, step).unsqueeze(dim=1)\n",
        "y = weight * X + bias\n",
        "\n",
        "X[:5], y[:5]"
      ],
      "metadata": {
        "colab": {
          "base_uri": "https://localhost:8080/"
        },
        "id": "D4DUhS28OWG8",
        "outputId": "1135c5c3-b644-4263-8c02-5e03fbcb74b2"
      },
      "execution_count": 3,
      "outputs": [
        {
          "output_type": "execute_result",
          "data": {
            "text/plain": [
              "(tensor([[0.0000],\n",
              "         [0.0200],\n",
              "         [0.0400],\n",
              "         [0.0600],\n",
              "         [0.0800]]),\n",
              " tensor([[0.3000],\n",
              "         [0.3140],\n",
              "         [0.3280],\n",
              "         [0.3420],\n",
              "         [0.3560]]))"
            ]
          },
          "metadata": {},
          "execution_count": 3
        }
      ]
    },
    {
      "cell_type": "code",
      "source": [
        "len(X), len(y)"
      ],
      "metadata": {
        "colab": {
          "base_uri": "https://localhost:8080/"
        },
        "id": "cdF1gHRQQhia",
        "outputId": "3ed513b5-a337-4b45-c793-17cf0bf7b46e"
      },
      "execution_count": 4,
      "outputs": [
        {
          "output_type": "execute_result",
          "data": {
            "text/plain": [
              "(50, 50)"
            ]
          },
          "metadata": {},
          "execution_count": 4
        }
      ]
    },
    {
      "cell_type": "markdown",
      "source": [
        "## Spliting data into training and tests sets"
      ],
      "metadata": {
        "id": "37h0H7nIQoip"
      }
    },
    {
      "cell_type": "markdown",
      "source": [
        "* Training Set - The model learns from this data - ~60-80% of the data.\n",
        "* Validation Set - Model get tuned on this data - ~10-20% of the data.\n",
        "* Testing Set - The model get evealuated on this data - ~10-20% of the data."
      ],
      "metadata": {
        "id": "6PIT772klInc"
      }
    },
    {
      "cell_type": "code",
      "source": [
        "# Create a train/test split\n",
        "train_split = int(0.8 * len(X)) # 80% of data for training, 20% for testing.\n",
        "\n",
        "X_train, y_train = X[:train_split], y[:train_split]\n",
        "X_test, y_test = X[train_split:], y[train_split:]\n",
        "\n",
        "len(X_train), len(y_train), len(X_test), len(y_test)"
      ],
      "metadata": {
        "colab": {
          "base_uri": "https://localhost:8080/"
        },
        "id": "OiDS05kgl99P",
        "outputId": "aa688404-147c-4dd5-d4ed-b0e2c5e1d2a9"
      },
      "execution_count": 5,
      "outputs": [
        {
          "output_type": "execute_result",
          "data": {
            "text/plain": [
              "(40, 40, 10, 10)"
            ]
          },
          "metadata": {},
          "execution_count": 5
        }
      ]
    },
    {
      "cell_type": "code",
      "source": [
        "def plot_predictions(train_data=X_train,\n",
        "                     train_labels=y_train,\n",
        "                     test_data=X_test,\n",
        "                     test_labels=y_test,\n",
        "                     predictions=None):\n",
        "    '''\n",
        "    Plots training data, test data and compares predictions.\n",
        "    '''\n",
        "    plt.figure(figsize=(10, 7))\n",
        "\n",
        "    # Plot the training data in blue\n",
        "    plt.scatter(train_data, train_labels, c=\"b\", s=4, label=\"Training data\")\n",
        "\n",
        "    # Plot the test data in red\n",
        "    plt.scatter(test_data, test_labels, c=\"g\", s=4, label=\"Testing data\")\n",
        "\n",
        "    # Are there predictions?\n",
        "    if predictions is not None:\n",
        "        # Plot the predicitions if they exist\n",
        "        plt.scatter(test_data, predictions, c=\"r\", s=4, label=\"predictions\")\n",
        "    # Show the legend\n",
        "    plt.legend(prop={\"size\": 10});"
      ],
      "metadata": {
        "id": "v_dEctiLnGQk"
      },
      "execution_count": 6,
      "outputs": []
    },
    {
      "cell_type": "code",
      "source": [
        "plot_predictions();"
      ],
      "metadata": {
        "colab": {
          "base_uri": "https://localhost:8080/",
          "height": 469
        },
        "id": "BK3mb_3fprU-",
        "outputId": "669e2e63-3687-4272-dd5c-087487562628"
      },
      "execution_count": 7,
      "outputs": [
        {
          "output_type": "display_data",
          "data": {
            "text/plain": [
              "<Figure size 1000x700 with 1 Axes>"
            ],
            "image/png": "[encoded data removed]"
          },
          "metadata": {}
        }
      ]
    },
    {
      "cell_type": "markdown",
      "source": [
        "## Build a Model"
      ],
      "metadata": {
        "id": "ZveeF4V-pu9j"
      }
    },
    {
      "cell_type": "markdown",
      "source": [
        "My first PyTorch model!\n",
        "\n",
        "Because we're are going to be building using python classes, recommend using this resource for OOP: https://realpython.com/python3-object-oriented-programming/\n",
        "\n",
        "What our model does:\n",
        "* Starts with random valuse for (weights & bias)\n",
        "* Looks at the training data and adjusts the random (weights & bias), values to get closer to the ideal values.\n",
        "\n",
        "How does it do so?\n",
        "Through two main algorithms:\n",
        "* Graident Descent - https://youtu.be/IHZwWFHWa-w?si=R7dLnRhJAyqikGRK\n",
        "* Backpropagation - https://youtu.be/Ilg3gGewQ5U?si=BkRPI8JLAQ-xHXWd"
      ],
      "metadata": {
        "id": "vGBAkyO0qfLF"
      }
    },
    {
      "cell_type": "code",
      "source": [
        "# Create a Linear Regression model class\n",
        "class LinearRegressionModel(nn.Module): # Almost everything in PyTorch is a nn.Module (think of this as neural network lego blocks)\n",
        "    def __init__(self):\n",
        "        super().__init__()\n",
        "        self.weights = nn.Parameter(torch.randn(1, # start with random weights & bias's (this will get adjusted as the model learns)\n",
        "                                                dtype=torch.float,\n",
        "                                                requires_grad=True))\n",
        "\n",
        "        self.bias = nn.Parameter(torch.randn(1,\n",
        "                                            dtype=torch.float,\n",
        "                                            requires_grad=True)) # we update this value with gradient descent\n",
        "\n",
        "    # Forward defines the computation in the model\n",
        "    def forward(self, x: torch.Tensor) -> torch.Tensor: # x is the input data (e.g. training/testing features)\n",
        "        return self.weights * x + self.bias # This is the linear regression formula (y = m*x + b)"
      ],
      "metadata": {
        "id": "KGDtsVU-rnQG"
      },
      "execution_count": 53,
      "outputs": []
    },
    {
      "cell_type": "markdown",
      "source": [
        "PyTorch model building essentials\n",
        "\n",
        "* `torch.nn` - contains all of the building blocks for computational graphs.\n",
        "* `torch.nn.parameter` - Stores tensors that can be used with nn.Module (used for updating model parameters via graident descent), are calculated automatically and often referred to as autograd.\n",
        "* `torch.nn.Module` - The base class for all neural network modules, all the building blocks for neural networks are subclasses.\n",
        "* `torch.optim` - Contains various different optimization algorithms. (these tell the model parameters stored in nn.Parameter how to best change to improve gradient descent and in turn reduce the loss).\n",
        "* `def forward()` - All nn.Module subclasses require a foward() method, this defines the computation that will take place on the data passed to the particular nn.Module. (Linear regression used above)\n",
        "\n",
        "Resource: PyTorch cheat sheet: https://pytorch.org/tutorials/beginner/ptcheat.html"
      ],
      "metadata": {
        "id": "NF_sn9F8uxgu"
      }
    },
    {
      "cell_type": "markdown",
      "source": [
        "## Checking the contents of a PyTorch Model"
      ],
      "metadata": {
        "id": "o7mXzqTjz4OY"
      }
    },
    {
      "cell_type": "code",
      "source": [
        "# Set manual seed since nn.Parameters are randomly initialized.\n",
        "torch.manual_seed(42)\n",
        "\n",
        "# Create an instance of the model (This is a subclass of nn.Module that contains nn.Parameters)\n",
        "model_0 = LinearRegressionModel()\n",
        "\n",
        "# Check the nn.Parameter(s) within the nn.Module subclass we created\n",
        "list(model_0.parameters())"
      ],
      "metadata": {
        "colab": {
          "base_uri": "https://localhost:8080/"
        },
        "id": "hmir0WRHlwSJ",
        "outputId": "7b89e2ce-7edf-4a0f-e9a1-dc2cfa604fe4"
      },
      "execution_count": 54,
      "outputs": [
        {
          "output_type": "execute_result",
          "data": {
            "text/plain": [
              "[Parameter containing:\n",
              " tensor([0.3367], requires_grad=True),\n",
              " Parameter containing:\n",
              " tensor([0.1288], requires_grad=True)]"
            ]
          },
          "metadata": {},
          "execution_count": 54
        }
      ]
    },
    {
      "cell_type": "code",
      "source": [
        "# List named parameters\n",
        "model_0.state_dict()\n",
        "# The closer we get the random values to the W&B we set 0.7/0.3 the better."
      ],
      "metadata": {
        "colab": {
          "base_uri": "https://localhost:8080/"
        },
        "id": "OPxGhtWNmXtx",
        "outputId": "fa2b2960-dfa3-4244-ba8a-8ab73e975f3b"
      },
      "execution_count": 55,
      "outputs": [
        {
          "output_type": "execute_result",
          "data": {
            "text/plain": [
              "OrderedDict([('weights', tensor([0.3367])), ('bias', tensor([0.1288]))])"
            ]
          },
          "metadata": {},
          "execution_count": 55
        }
      ]
    },
    {
      "cell_type": "markdown",
      "source": [
        "## Making Predictions using `torch.inference_mode()`"
      ],
      "metadata": {
        "id": "UaZ0KEZanKS6"
      }
    },
    {
      "cell_type": "markdown",
      "source": [
        "To check our model's predictive power, lets see how well it predicts `y_test` based on `X_test` data.\n",
        "When we pass data through our model, its going to run through the `forward()` method."
      ],
      "metadata": {
        "id": "0O981QHdnxx-"
      }
    },
    {
      "cell_type": "code",
      "source": [
        "# Make predictions with model\n",
        "with torch.inference_mode():\n",
        "    y_preds = model_0(X_test)\n",
        "\n",
        "y_preds"
      ],
      "metadata": {
        "colab": {
          "base_uri": "https://localhost:8080/"
        },
        "id": "hoNWjeYkolGc",
        "outputId": "3bda3b43-6737-462d-c2d4-ffb3911f2c26"
      },
      "execution_count": 56,
      "outputs": [
        {
          "output_type": "execute_result",
          "data": {
            "text/plain": [
              "tensor([[0.3982],\n",
              "        [0.4049],\n",
              "        [0.4116],\n",
              "        [0.4184],\n",
              "        [0.4251],\n",
              "        [0.4318],\n",
              "        [0.4386],\n",
              "        [0.4453],\n",
              "        [0.4520],\n",
              "        [0.4588]])"
            ]
          },
          "metadata": {},
          "execution_count": 56
        }
      ]
    },
    {
      "cell_type": "markdown",
      "source": [
        "As the name suggests, `torch.inference_mode()` is used when using a model for inference (making predictions).\n",
        "\n",
        "`torch.inference_mode()` turns off a bunch of things (like gradient tracking, which is necessary for training but not for inference) to make forward-passes faster."
      ],
      "metadata": {
        "id": "WUSlBDVZw05_"
      }
    },
    {
      "cell_type": "code",
      "source": [
        "plot_predictions(predictions=y_preds)"
      ],
      "metadata": {
        "colab": {
          "base_uri": "https://localhost:8080/",
          "height": 469
        },
        "id": "-PZad-k6vksn",
        "outputId": "8fd3a4d4-8cd5-4027-83bc-a536e0f03837"
      },
      "execution_count": 57,
      "outputs": [
        {
          "output_type": "display_data",
          "data": {
            "text/plain": [
              "<Figure size 1000x700 with 1 Axes>"
            ],
            "image/png": "[encoded data removed]"
          },
          "metadata": {}
        }
      ]
    },
    {
      "cell_type": "markdown",
      "source": [
        "## Train Model"
      ],
      "metadata": {
        "id": "i8a1mWRFvvWe"
      }
    },
    {
      "cell_type": "markdown",
      "source": [
        "The whole idea of training is for a model to move from some unkown parameters (these maybe random), to some known parameters.\n",
        "\n",
        "* **Loss Function:** A function to measure how wrong your model's predictions are. (Lower is better).\n",
        "\n",
        "* **Optimizer:** Takes into account the loss of a model and adjusts the model's parameters (e.g weights & bias) to improve the loss function.\n",
        "    * Inside the Optimizer you'll often have to set two parameters:\n",
        "        * `params` - the model parameters you'd like t optimize.\n",
        "        * `lr` - learning rate.\n",
        "\n",
        "* Training Loop.\n",
        "* Testing Loop."
      ],
      "metadata": {
        "id": "0-j1NlZWDCep"
      }
    },
    {
      "cell_type": "code",
      "source": [
        "# Loss function: L1lose = Mean Absolute Error(MAE) differnce between each element in the input x and target y.\n",
        "loss_fn = nn.L1Loss()\n",
        "\n",
        "# Setup an optimizer (SGD) Stochastic Graident Descent\n",
        "optimizer = torch.optim.SGD(params=model_0.parameters(),\n",
        "                            lr=0.01) # Learning Rate hyperparameter\n"
      ],
      "metadata": {
        "id": "0Ep6koRRELYZ"
      },
      "execution_count": 58,
      "outputs": []
    },
    {
      "cell_type": "markdown",
      "source": [
        "## Building a Training & Testing loop in PyTorch"
      ],
      "metadata": {
        "id": "taOSTOBuG8pb"
      }
    },
    {
      "cell_type": "markdown",
      "source": [
        "Training Loop:\n",
        "0. Loop through the data\n",
        "1. Forward pass - This involves data moving through our model's `forward()` functions. Also called forward propagation.\n",
        "2. Calculate the loss (compare forward pass predictions to ground truth labels).\n",
        "3. Optimizer Zero Grad\n",
        "4. Loss backward - move backwards through the newtwork to calculate the gradients of each of the parameters of our model with respect to the loss (**Backpropagation**).\n",
        "5. Optimizer - Use the optimizer to adjust our models parameters to try and improve the loss (**Graident Descent**)"
      ],
      "metadata": {
        "id": "BchpyJt8HzP7"
      }
    },
    {
      "cell_type": "code",
      "source": [
        "torch.manual_seed(42)\n",
        "# An epoch is one loop through the data\n",
        "epochs = 200\n",
        "\n",
        "# Tracking experiments\n",
        "epoch_count = []\n",
        "train_loss_values = []\n",
        "test_loss_values = []\n",
        "\n",
        "# Training\n",
        "for epoch in range(epochs):\n",
        "    model_0.train() # Set the model to training mode\n",
        "\n",
        "    # Forward Pass\n",
        "    y_pred = model_0(X_train)\n",
        "\n",
        "    # Calculate the loss\n",
        "    loss = loss_fn(y_pred, y_train)\n",
        "    #print(f\"Loss: {loss}\")\n",
        "\n",
        "    # Optimizer Zero Grad\n",
        "    optimizer.zero_grad()  # by default the optimizer changes will accumulate through the loop so... we have to zero them before the next loop.\n",
        "\n",
        "    # Perform backpropagation\n",
        "    loss.backward()\n",
        "\n",
        "    # Step the optimizer (perform graident descent)\n",
        "    optimizer.step()\n",
        "\n",
        "    #Testing\n",
        "    model_0.eval() # Turns off settings not needed for testing.\n",
        "    # Turn on inference mode context manager\n",
        "    with torch.inference_mode(): # Turns off graident tracking. You may see with torch.no_grad():\n",
        "        # Forward Pass on test data\n",
        "        test_pred = model_0(X_test)\n",
        "        # Calculate the loss on test data\n",
        "        test_loss = loss_fn(test_pred, y_test)\n",
        "\n",
        "    # Print out whats happening every 10 epochs\n",
        "    if epoch % 10 == 0:\n",
        "        epoch_count.append(epoch)\n",
        "        test_loss_values.append(test_loss)\n",
        "        train_loss_values.append(loss)\n",
        "        print(f\"Epoch: {epoch} | Train Loss: {loss} | Test Loss: {test_loss}\")\n",
        "        print(model_0.state_dict())\n",
        "\n",
        ""
      ],
      "metadata": {
        "id": "-yV7v-2UJIy7",
        "colab": {
          "base_uri": "https://localhost:8080/"
        },
        "outputId": "d338a2d8-4ba1-4130-8217-98bd737dada4"
      },
      "execution_count": 59,
      "outputs": [
        {
          "output_type": "stream",
          "name": "stdout",
          "text": [
            "Epoch: 0 | Train Loss: 0.31288138031959534 | Test Loss: 0.48106518387794495\n",
            "OrderedDict([('weights', tensor([0.3406])), ('bias', tensor([0.1388]))])\n",
            "Epoch: 10 | Train Loss: 0.1976713240146637 | Test Loss: 0.3463551998138428\n",
            "OrderedDict([('weights', tensor([0.3796])), ('bias', tensor([0.2388]))])\n",
            "Epoch: 20 | Train Loss: 0.08908725529909134 | Test Loss: 0.21729660034179688\n",
            "OrderedDict([('weights', tensor([0.4184])), ('bias', tensor([0.3333]))])\n",
            "Epoch: 30 | Train Loss: 0.053148526698350906 | Test Loss: 0.14464017748832703\n",
            "OrderedDict([('weights', tensor([0.4512])), ('bias', tensor([0.3768]))])\n",
            "Epoch: 40 | Train Loss: 0.04543796554207802 | Test Loss: 0.11360953003168106\n",
            "OrderedDict([('weights', tensor([0.4748])), ('bias', tensor([0.3868]))])\n",
            "Epoch: 50 | Train Loss: 0.04167863354086876 | Test Loss: 0.09919948130846024\n",
            "OrderedDict([('weights', tensor([0.4938])), ('bias', tensor([0.3843]))])\n",
            "Epoch: 60 | Train Loss: 0.03818932920694351 | Test Loss: 0.08886633068323135\n",
            "OrderedDict([('weights', tensor([0.5116])), ('bias', tensor([0.3788]))])\n",
            "Epoch: 70 | Train Loss: 0.03476089984178543 | Test Loss: 0.0805937647819519\n",
            "OrderedDict([('weights', tensor([0.5288])), ('bias', tensor([0.3718]))])\n",
            "Epoch: 80 | Train Loss: 0.03132382780313492 | Test Loss: 0.07232122868299484\n",
            "OrderedDict([('weights', tensor([0.5459])), ('bias', tensor([0.3648]))])\n",
            "Epoch: 90 | Train Loss: 0.02788739837706089 | Test Loss: 0.06473556160926819\n",
            "OrderedDict([('weights', tensor([0.5629])), ('bias', tensor([0.3573]))])\n",
            "Epoch: 100 | Train Loss: 0.024458957836031914 | Test Loss: 0.05646304413676262\n",
            "OrderedDict([('weights', tensor([0.5800])), ('bias', tensor([0.3503]))])\n",
            "Epoch: 110 | Train Loss: 0.021020207554101944 | Test Loss: 0.04819049686193466\n",
            "OrderedDict([('weights', tensor([0.5972])), ('bias', tensor([0.3433]))])\n",
            "Epoch: 120 | Train Loss: 0.01758546568453312 | Test Loss: 0.04060482233762741\n",
            "OrderedDict([('weights', tensor([0.6141])), ('bias', tensor([0.3358]))])\n",
            "Epoch: 130 | Train Loss: 0.014155393466353416 | Test Loss: 0.03233227878808975\n",
            "OrderedDict([('weights', tensor([0.6313])), ('bias', tensor([0.3288]))])\n",
            "Epoch: 140 | Train Loss: 0.010716589167714119 | Test Loss: 0.024059748277068138\n",
            "OrderedDict([('weights', tensor([0.6485])), ('bias', tensor([0.3218]))])\n",
            "Epoch: 150 | Train Loss: 0.0072835334576666355 | Test Loss: 0.016474086791276932\n",
            "OrderedDict([('weights', tensor([0.6654])), ('bias', tensor([0.3143]))])\n",
            "Epoch: 160 | Train Loss: 0.0038517764769494534 | Test Loss: 0.008201557211577892\n",
            "OrderedDict([('weights', tensor([0.6826])), ('bias', tensor([0.3073]))])\n",
            "Epoch: 170 | Train Loss: 0.008932482451200485 | Test Loss: 0.005023092031478882\n",
            "OrderedDict([('weights', tensor([0.6951])), ('bias', tensor([0.2993]))])\n",
            "Epoch: 180 | Train Loss: 0.008932482451200485 | Test Loss: 0.005023092031478882\n",
            "OrderedDict([('weights', tensor([0.6951])), ('bias', tensor([0.2993]))])\n",
            "Epoch: 190 | Train Loss: 0.008932482451200485 | Test Loss: 0.005023092031478882\n",
            "OrderedDict([('weights', tensor([0.6951])), ('bias', tensor([0.2993]))])\n"
          ]
        }
      ]
    },
    {
      "cell_type": "code",
      "source": [
        "# Plot the loss curves\n",
        "import numpy as np\n",
        "\n",
        "plt.plot(epoch_count, np.array(torch.tensor(train_loss_values).numpy()), label=\"Train Loss\")\n",
        "plt.plot(epoch_count, test_loss_values, label=\"Test Loss\")\n",
        "plt.title(\"Traing and Test Loss Curves\")\n",
        "plt.ylabel(\"loss\")\n",
        "plt.xlabel(\"Epochs\")\n",
        "plt.legend();\n"
      ],
      "metadata": {
        "colab": {
          "base_uri": "https://localhost:8080/",
          "height": 472
        },
        "id": "6u2yiq1zQW2r",
        "outputId": "cafd5705-a391-4d2d-fcc8-055561822e31"
      },
      "execution_count": 63,
      "outputs": [
        {
          "output_type": "display_data",
          "data": {
            "text/plain": [
              "<Figure size 640x480 with 1 Axes>"
            ],
            "image/png": "[encoded data removed]"
          },
          "metadata": {}
        }
      ]
    },
    {
      "cell_type": "code",
      "source": [
        "model_0.state_dict()"
      ],
      "metadata": {
        "colab": {
          "base_uri": "https://localhost:8080/"
        },
        "id": "r2LTZq36MWqj",
        "outputId": "a5f97fd3-0bea-498a-a0f9-ab0bdb4cf30a"
      },
      "execution_count": 15,
      "outputs": [
        {
          "output_type": "execute_result",
          "data": {
            "text/plain": [
              "OrderedDict([('weights', tensor([0.5784])), ('bias', tensor([0.3513]))])"
            ]
          },
          "metadata": {},
          "execution_count": 15
        }
      ]
    },
    {
      "cell_type": "code",
      "source": [
        "model_0.state_dict()"
      ],
      "metadata": {
        "colab": {
          "base_uri": "https://localhost:8080/"
        },
        "id": "FMPvQBqIRiU0",
        "outputId": "408f14c7-8527-4a75-84c5-002ef55377b4"
      },
      "execution_count": 60,
      "outputs": [
        {
          "output_type": "execute_result",
          "data": {
            "text/plain": [
              "OrderedDict([('weights', tensor([0.6990])), ('bias', tensor([0.3093]))])"
            ]
          },
          "metadata": {},
          "execution_count": 60
        }
      ]
    },
    {
      "cell_type": "code",
      "source": [
        "with torch.inference_mode():\n",
        "    y_preds_new = model_0(X_test)"
      ],
      "metadata": {
        "id": "ZzvROlH3QEjg"
      },
      "execution_count": 61,
      "outputs": []
    },
    {
      "cell_type": "code",
      "source": [
        "plot_predictions(predictions=y_preds_new)"
      ],
      "metadata": {
        "colab": {
          "base_uri": "https://localhost:8080/",
          "height": 469
        },
        "id": "autyx7EKQ-vu",
        "outputId": "0b7fca61-3e07-47b5-da4d-1494eefecc13"
      },
      "execution_count": 62,
      "outputs": [
        {
          "output_type": "display_data",
          "data": {
            "text/plain": [
              "<Figure size 1000x700 with 1 Axes>"
            ],
            "image/png": "[encoded data removed]"
          },
          "metadata": {}
        }
      ]
    },
    {
      "cell_type": "markdown",
      "source": [
        "## Saving a model in PyTorch"
      ],
      "metadata": {
        "id": "h7G6DizsRHfi"
      }
    },
    {
      "cell_type": "markdown",
      "source": [
        "There are three main methods you should know about for saving and loading models in PyTorch;\n",
        "\n",
        "1. `torch.save()` - Allows you to save a PyTorch object in pythons pickle format.\n",
        "2. `torch.load()` - Allows you to load a saved PyToch object.\n",
        "3. `torch.nn.Module.load_state_dict()` - This allows you to load a models saved state dictionary."
      ],
      "metadata": {
        "id": "g0XO61x-VtOJ"
      }
    },
    {
      "cell_type": "code",
      "source": [
        "# Saving our PyTorch Model\n",
        "from pathlib import Path\n",
        "\n",
        "# Create models directory\n",
        "MODEL_PATH = Path(\"models\")\n",
        "MODEL_PATH.mkdir(parents=True, exist_ok=True)\n",
        "\n",
        "# Create model save path\n",
        "MODEL_NAME = \"01_pytorch_workflow_model_0.pth\"\n",
        "MODEL_SAVE_PATH = MODEL_PATH /MODEL_NAME\n",
        "\n",
        "# save the model state dict\n",
        "print(f\"Saving model to: {MODEL_SAVE_PATH}\")\n",
        "torch.save(obj=model_0.state_dict(),\n",
        "           f=MODEL_SAVE_PATH)"
      ],
      "metadata": {
        "colab": {
          "base_uri": "https://localhost:8080/"
        },
        "id": "POMdOOQiWZKC",
        "outputId": "d98922f1-f264-4d06-cd6c-cd72f4ae4207"
      },
      "execution_count": 65,
      "outputs": [
        {
          "output_type": "stream",
          "name": "stdout",
          "text": [
            "Saving model to: models/01_pytorch_workflow_model_0.pth\n"
          ]
        }
      ]
    },
    {
      "cell_type": "code",
      "source": [
        "!ls -1 models"
      ],
      "metadata": {
        "colab": {
          "base_uri": "https://localhost:8080/"
        },
        "id": "8uHD7awZY_FW",
        "outputId": "864b0021-769c-4358-b2a8-ee136e550801"
      },
      "execution_count": 66,
      "outputs": [
        {
          "output_type": "stream",
          "name": "stdout",
          "text": [
            "01_pytorch_workflow_model_0.pth\n"
          ]
        }
      ]
    },
    {
      "cell_type": "code",
      "source": [],
      "metadata": {
        "id": "7mcN-aeoZzck"
      },
      "execution_count": null,
      "outputs": []
    }
  ]
}